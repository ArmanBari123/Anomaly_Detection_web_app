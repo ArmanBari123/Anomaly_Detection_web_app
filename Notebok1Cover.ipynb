{
 "cells": [
  {
   "cell_type": "code",
   "execution_count": 3,
   "metadata": {
    "id": "t9EmiPPtG53i"
   },
   "outputs": [
    {
     "name": "stdout",
     "output_type": "stream",
     "text": [
      "Collecting seaborn\n",
      "  Downloading seaborn-0.12.1-py3-none-any.whl (288 kB)\n",
      "     ------------------------------------ 288.2/288.2 kB 808.1 kB/s eta 0:00:00\n",
      "Collecting matplotlib!=3.6.1,>=3.1\n",
      "  Downloading matplotlib-3.6.2-cp39-cp39-win_amd64.whl (7.2 MB)\n",
      "     ---------------------------------------- 7.2/7.2 MB 1.6 MB/s eta 0:00:00\n",
      "Requirement already satisfied: pandas>=0.25 in c:\\users\\92347\\ansel\\envs\\fyp\\lib\\site-packages (from seaborn) (1.5.2)\n",
      "Requirement already satisfied: numpy>=1.17 in c:\\users\\92347\\ansel\\envs\\fyp\\lib\\site-packages (from seaborn) (1.23.5)\n",
      "Requirement already satisfied: packaging>=20.0 in c:\\users\\92347\\ansel\\envs\\fyp\\lib\\site-packages (from matplotlib!=3.6.1,>=3.1->seaborn) (21.3)\n",
      "Collecting fonttools>=4.22.0\n",
      "  Downloading fonttools-4.38.0-py3-none-any.whl (965 kB)\n",
      "     -------------------------------------- 965.4/965.4 kB 1.9 MB/s eta 0:00:00\n",
      "Collecting kiwisolver>=1.0.1\n",
      "  Downloading kiwisolver-1.4.4-cp39-cp39-win_amd64.whl (55 kB)\n",
      "     ---------------------------------------- 55.4/55.4 kB 1.5 MB/s eta 0:00:00\n",
      "Collecting pillow>=6.2.0\n",
      "  Downloading Pillow-9.3.0-cp39-cp39-win_amd64.whl (2.5 MB)\n",
      "     ---------------------------------------- 2.5/2.5 MB 1.9 MB/s eta 0:00:00\n",
      "Requirement already satisfied: pyparsing>=2.2.1 in c:\\users\\92347\\ansel\\envs\\fyp\\lib\\site-packages (from matplotlib!=3.6.1,>=3.1->seaborn) (3.0.9)\n",
      "Requirement already satisfied: python-dateutil>=2.7 in c:\\users\\92347\\ansel\\envs\\fyp\\lib\\site-packages (from matplotlib!=3.6.1,>=3.1->seaborn) (2.8.2)\n",
      "Collecting contourpy>=1.0.1\n",
      "  Downloading contourpy-1.0.6-cp39-cp39-win_amd64.whl (161 kB)\n",
      "     -------------------------------------- 161.3/161.3 kB 1.9 MB/s eta 0:00:00\n",
      "Collecting cycler>=0.10\n",
      "  Downloading cycler-0.11.0-py3-none-any.whl (6.4 kB)\n",
      "Requirement already satisfied: pytz>=2020.1 in c:\\users\\92347\\ansel\\envs\\fyp\\lib\\site-packages (from pandas>=0.25->seaborn) (2022.1)\n",
      "Requirement already satisfied: six>=1.5 in c:\\users\\92347\\ansel\\envs\\fyp\\lib\\site-packages (from python-dateutil>=2.7->matplotlib!=3.6.1,>=3.1->seaborn) (1.16.0)\n",
      "Installing collected packages: pillow, kiwisolver, fonttools, cycler, contourpy, matplotlib, seaborn\n",
      "Successfully installed contourpy-1.0.6 cycler-0.11.0 fonttools-4.38.0 kiwisolver-1.4.4 matplotlib-3.6.2 pillow-9.3.0 seaborn-0.12.1\n"
     ]
    },
    {
     "ename": "ModuleNotFoundError",
     "evalue": "No module named 'sklearn'",
     "output_type": "error",
     "traceback": [
      "\u001b[1;31m---------------------------------------------------------------------------\u001b[0m",
      "\u001b[1;31mModuleNotFoundError\u001b[0m                       Traceback (most recent call last)",
      "Cell \u001b[1;32mIn [3], line 9\u001b[0m\n\u001b[0;32m      7\u001b[0m \u001b[38;5;28;01mimport\u001b[39;00m \u001b[38;5;21;01mmatplotlib\u001b[39;00m\u001b[38;5;21;01m.\u001b[39;00m\u001b[38;5;21;01mpyplot\u001b[39;00m \u001b[38;5;28;01mas\u001b[39;00m \u001b[38;5;21;01mplt\u001b[39;00m \n\u001b[0;32m      8\u001b[0m \u001b[38;5;28;01mfrom\u001b[39;00m \u001b[38;5;21;01mpandas\u001b[39;00m \u001b[38;5;28;01mimport\u001b[39;00m DataFrame \n\u001b[1;32m----> 9\u001b[0m \u001b[38;5;28;01mfrom\u001b[39;00m \u001b[38;5;21;01msklearn\u001b[39;00m\u001b[38;5;21;01m.\u001b[39;00m\u001b[38;5;21;01mpreprocessing\u001b[39;00m \u001b[38;5;28;01mimport\u001b[39;00m StandardScaler, normalize\n\u001b[0;32m     10\u001b[0m \u001b[38;5;28;01mfrom\u001b[39;00m \u001b[38;5;21;01msklearn\u001b[39;00m\u001b[38;5;21;01m.\u001b[39;00m\u001b[38;5;21;01mdecomposition\u001b[39;00m \u001b[38;5;28;01mimport\u001b[39;00m PCA\n\u001b[0;32m     11\u001b[0m \u001b[38;5;28;01mfrom\u001b[39;00m \u001b[38;5;21;01msklearn\u001b[39;00m\u001b[38;5;21;01m.\u001b[39;00m\u001b[38;5;21;01mmixture\u001b[39;00m \u001b[38;5;28;01mimport\u001b[39;00m GaussianMixture \n",
      "\u001b[1;31mModuleNotFoundError\u001b[0m: No module named 'sklearn'"
     ]
    }
   ],
   "source": [
    "import pandas as pd \n",
    "import pandas as pd \n",
    "import numpy as np \n",
    "import pandas as pd \n",
    "!pip install seaborn\n",
    "import seaborn as sns\n",
    "import matplotlib.pyplot as plt \n",
    "from pandas import DataFrame \n",
    "from sklearn.preprocessing import StandardScaler, normalize\n",
    "from sklearn.decomposition import PCA\n",
    "from sklearn.mixture import GaussianMixture \n",
    "from sklearn.metrics import silhouette_score\n",
    "from sklearn.model_selection import train_test_split\n",
    "from sklearn import metrics\n",
    "import pandas as pd   \n",
    "from IPython.display import display_html \n"
   ]
  },
  {
   "cell_type": "code",
   "execution_count": null,
   "metadata": {
    "id": "CXBg6rkuVyoE"
   },
   "outputs": [],
   "source": [
    "!pip install -U -q PyDrive\n",
    "from pydrive.auth import GoogleAuth\n",
    "from pydrive.drive import GoogleDrive\n",
    "from google.colab import auth\n",
    "from oauth2client.client import GoogleCredentials\n",
    "# Authenticate and create the PyDrive client.\n",
    "auth.authenticate_user()\n",
    "gauth = GoogleAuth()\n",
    "gauth.credentials = GoogleCredentials.get_application_default()\n",
    "drive = GoogleDrive(gauth)"
   ]
  },
  {
   "cell_type": "markdown",
   "metadata": {
    "id": "t30m-QcTW5EV"
   },
   "source": [
    "# Data Set 1\n",
    "## Domain Taxonomy\n",
    "http://odds.cs.stonybrook.edu/forestcovercovertype-dataset/\n",
    "\n",
    "Dataset Information\n",
    "The original ForestCover/Covertype dataset from UCI machine learning repository is a multiclass classification dataset. It is used in predicting forest cover type from cartographic variables only (no remotely sensed data). This study area includes four wilderness areas located in the Roosevelt National Forest of northern Colorado. These areas represent forests with minimal human-caused disturbances, so that existing forest cover types are more a result of ecological processes rather than forest management practices. This dataset has 54 attributes (**10 quantitative variables**, 4 binary wilderness areas and 40 binary soil type variables). Here, outlier detection dataset is created using only 10 quantitative attributes. Instances from class 2 are considered as normal points and instances from class 4 are anomalies. The anomalies ratio is **0.9%**. Instances from the other classes are omitted."
   ]
  },
  {
   "cell_type": "code",
   "execution_count": null,
   "metadata": {
    "colab": {
     "base_uri": "https://localhost:8080/"
    },
    "id": "QMyA4DjpXONp",
    "outputId": "4fc32e48-5fbf-4a73-d7ed-f65b1113589a"
   },
   "outputs": [
    {
     "name": "stdout",
     "output_type": "stream",
     "text": [
      "Looking in indexes: https://pypi.org/simple, https://us-python.pkg.dev/colab-wheels/public/simple/\n",
      "Collecting mat73\n",
      "  Downloading mat73-0.59-py3-none-any.whl (19 kB)\n",
      "Requirement already satisfied: h5py in /usr/local/lib/python3.7/dist-packages (from mat73) (3.1.0)\n",
      "Requirement already satisfied: numpy in /usr/local/lib/python3.7/dist-packages (from mat73) (1.21.6)\n",
      "Requirement already satisfied: cached-property in /usr/local/lib/python3.7/dist-packages (from h5py->mat73) (1.5.2)\n",
      "Installing collected packages: mat73\n",
      "Successfully installed mat73-0.59\n"
     ]
    }
   ],
   "source": [
    "pip install mat73"
   ]
  },
  {
   "cell_type": "code",
   "execution_count": null,
   "metadata": {
    "colab": {
     "base_uri": "https://localhost:8080/"
    },
    "id": "L1kr0R2SX3ka",
    "outputId": "0cfcd2af-faf7-417f-e18d-e7d91bfba874"
   },
   "outputs": [
    {
     "data": {
      "text/plain": [
       "0    283301\n",
       "1      2747\n",
       "Name: 10, dtype: int64"
      ]
     },
     "execution_count": 4,
     "metadata": {},
     "output_type": "execute_result"
    }
   ],
   "source": [
    "import scipy.io as sio\n",
    "test = sio.loadmat('/content/drive/MyDrive/Anomaly detection/cover.mat')\n",
    "test\n",
    "df = pd.DataFrame(np.hstack((test['X'], test['y'])))\n",
    "df[10].value_counts()"
   ]
  },
  {
   "cell_type": "code",
   "execution_count": null,
   "metadata": {
    "colab": {
     "base_uri": "https://localhost:8080/",
     "height": 206
    },
    "id": "eqbn1g7MYCRc",
    "outputId": "7fc5d073-c4b7-43d9-9eaa-904b520d38b4"
   },
   "outputs": [
    {
     "data": {
      "text/html": [
       "\n",
       "  <div id=\"df-56596b1e-df70-4dad-875c-8d9631d16cd0\">\n",
       "    <div class=\"colab-df-container\">\n",
       "      <div>\n",
       "<style scoped>\n",
       "    .dataframe tbody tr th:only-of-type {\n",
       "        vertical-align: middle;\n",
       "    }\n",
       "\n",
       "    .dataframe tbody tr th {\n",
       "        vertical-align: top;\n",
       "    }\n",
       "\n",
       "    .dataframe thead th {\n",
       "        text-align: right;\n",
       "    }\n",
       "</style>\n",
       "<table border=\"1\" class=\"dataframe\">\n",
       "  <thead>\n",
       "    <tr style=\"text-align: right;\">\n",
       "      <th></th>\n",
       "      <th>0</th>\n",
       "      <th>1</th>\n",
       "      <th>2</th>\n",
       "      <th>3</th>\n",
       "      <th>4</th>\n",
       "      <th>5</th>\n",
       "      <th>6</th>\n",
       "      <th>7</th>\n",
       "      <th>8</th>\n",
       "      <th>9</th>\n",
       "      <th>10</th>\n",
       "    </tr>\n",
       "  </thead>\n",
       "  <tbody>\n",
       "    <tr>\n",
       "      <th>0</th>\n",
       "      <td>2804</td>\n",
       "      <td>139</td>\n",
       "      <td>9</td>\n",
       "      <td>268</td>\n",
       "      <td>65</td>\n",
       "      <td>3180</td>\n",
       "      <td>234</td>\n",
       "      <td>238</td>\n",
       "      <td>135</td>\n",
       "      <td>6121</td>\n",
       "      <td>0</td>\n",
       "    </tr>\n",
       "    <tr>\n",
       "      <th>1</th>\n",
       "      <td>2785</td>\n",
       "      <td>155</td>\n",
       "      <td>18</td>\n",
       "      <td>242</td>\n",
       "      <td>118</td>\n",
       "      <td>3090</td>\n",
       "      <td>238</td>\n",
       "      <td>238</td>\n",
       "      <td>122</td>\n",
       "      <td>6211</td>\n",
       "      <td>0</td>\n",
       "    </tr>\n",
       "    <tr>\n",
       "      <th>2</th>\n",
       "      <td>2579</td>\n",
       "      <td>132</td>\n",
       "      <td>6</td>\n",
       "      <td>300</td>\n",
       "      <td>-15</td>\n",
       "      <td>67</td>\n",
       "      <td>230</td>\n",
       "      <td>237</td>\n",
       "      <td>140</td>\n",
       "      <td>6031</td>\n",
       "      <td>0</td>\n",
       "    </tr>\n",
       "    <tr>\n",
       "      <th>3</th>\n",
       "      <td>2886</td>\n",
       "      <td>151</td>\n",
       "      <td>11</td>\n",
       "      <td>371</td>\n",
       "      <td>26</td>\n",
       "      <td>5253</td>\n",
       "      <td>234</td>\n",
       "      <td>240</td>\n",
       "      <td>136</td>\n",
       "      <td>4051</td>\n",
       "      <td>0</td>\n",
       "    </tr>\n",
       "    <tr>\n",
       "      <th>4</th>\n",
       "      <td>2742</td>\n",
       "      <td>134</td>\n",
       "      <td>22</td>\n",
       "      <td>150</td>\n",
       "      <td>69</td>\n",
       "      <td>3215</td>\n",
       "      <td>248</td>\n",
       "      <td>224</td>\n",
       "      <td>92</td>\n",
       "      <td>6091</td>\n",
       "      <td>0</td>\n",
       "    </tr>\n",
       "  </tbody>\n",
       "</table>\n",
       "</div>\n",
       "      <button class=\"colab-df-convert\" onclick=\"convertToInteractive('df-56596b1e-df70-4dad-875c-8d9631d16cd0')\"\n",
       "              title=\"Convert this dataframe to an interactive table.\"\n",
       "              style=\"display:none;\">\n",
       "        \n",
       "  <svg xmlns=\"http://www.w3.org/2000/svg\" height=\"24px\"viewBox=\"0 0 24 24\"\n",
       "       width=\"24px\">\n",
       "    <path d=\"M0 0h24v24H0V0z\" fill=\"none\"/>\n",
       "    <path d=\"M18.56 5.44l.94 2.06.94-2.06 2.06-.94-2.06-.94-.94-2.06-.94 2.06-2.06.94zm-11 1L8.5 8.5l.94-2.06 2.06-.94-2.06-.94L8.5 2.5l-.94 2.06-2.06.94zm10 10l.94 2.06.94-2.06 2.06-.94-2.06-.94-.94-2.06-.94 2.06-2.06.94z\"/><path d=\"M17.41 7.96l-1.37-1.37c-.4-.4-.92-.59-1.43-.59-.52 0-1.04.2-1.43.59L10.3 9.45l-7.72 7.72c-.78.78-.78 2.05 0 2.83L4 21.41c.39.39.9.59 1.41.59.51 0 1.02-.2 1.41-.59l7.78-7.78 2.81-2.81c.8-.78.8-2.07 0-2.86zM5.41 20L4 18.59l7.72-7.72 1.47 1.35L5.41 20z\"/>\n",
       "  </svg>\n",
       "      </button>\n",
       "      \n",
       "  <style>\n",
       "    .colab-df-container {\n",
       "      display:flex;\n",
       "      flex-wrap:wrap;\n",
       "      gap: 12px;\n",
       "    }\n",
       "\n",
       "    .colab-df-convert {\n",
       "      background-color: #E8F0FE;\n",
       "      border: none;\n",
       "      border-radius: 50%;\n",
       "      cursor: pointer;\n",
       "      display: none;\n",
       "      fill: #1967D2;\n",
       "      height: 32px;\n",
       "      padding: 0 0 0 0;\n",
       "      width: 32px;\n",
       "    }\n",
       "\n",
       "    .colab-df-convert:hover {\n",
       "      background-color: #E2EBFA;\n",
       "      box-shadow: 0px 1px 2px rgba(60, 64, 67, 0.3), 0px 1px 3px 1px rgba(60, 64, 67, 0.15);\n",
       "      fill: #174EA6;\n",
       "    }\n",
       "\n",
       "    [theme=dark] .colab-df-convert {\n",
       "      background-color: #3B4455;\n",
       "      fill: #D2E3FC;\n",
       "    }\n",
       "\n",
       "    [theme=dark] .colab-df-convert:hover {\n",
       "      background-color: #434B5C;\n",
       "      box-shadow: 0px 1px 3px 1px rgba(0, 0, 0, 0.15);\n",
       "      filter: drop-shadow(0px 1px 2px rgba(0, 0, 0, 0.3));\n",
       "      fill: #FFFFFF;\n",
       "    }\n",
       "  </style>\n",
       "\n",
       "      <script>\n",
       "        const buttonEl =\n",
       "          document.querySelector('#df-56596b1e-df70-4dad-875c-8d9631d16cd0 button.colab-df-convert');\n",
       "        buttonEl.style.display =\n",
       "          google.colab.kernel.accessAllowed ? 'block' : 'none';\n",
       "\n",
       "        async function convertToInteractive(key) {\n",
       "          const element = document.querySelector('#df-56596b1e-df70-4dad-875c-8d9631d16cd0');\n",
       "          const dataTable =\n",
       "            await google.colab.kernel.invokeFunction('convertToInteractive',\n",
       "                                                     [key], {});\n",
       "          if (!dataTable) return;\n",
       "\n",
       "          const docLinkHtml = 'Like what you see? Visit the ' +\n",
       "            '<a target=\"_blank\" href=https://colab.research.google.com/notebooks/data_table.ipynb>data table notebook</a>'\n",
       "            + ' to learn more about interactive tables.';\n",
       "          element.innerHTML = '';\n",
       "          dataTable['output_type'] = 'display_data';\n",
       "          await google.colab.output.renderOutput(dataTable, element);\n",
       "          const docLink = document.createElement('div');\n",
       "          docLink.innerHTML = docLinkHtml;\n",
       "          element.appendChild(docLink);\n",
       "        }\n",
       "      </script>\n",
       "    </div>\n",
       "  </div>\n",
       "  "
      ],
      "text/plain": [
       "     0    1   2    3    4     5    6    7    8     9   10\n",
       "0  2804  139   9  268   65  3180  234  238  135  6121   0\n",
       "1  2785  155  18  242  118  3090  238  238  122  6211   0\n",
       "2  2579  132   6  300  -15    67  230  237  140  6031   0\n",
       "3  2886  151  11  371   26  5253  234  240  136  4051   0\n",
       "4  2742  134  22  150   69  3215  248  224   92  6091   0"
      ]
     },
     "execution_count": 5,
     "metadata": {},
     "output_type": "execute_result"
    }
   ],
   "source": [
    "df.head(5)"
   ]
  },
  {
   "cell_type": "markdown",
   "metadata": {
    "id": "TIjfY2KvaNLJ"
   },
   "source": [
    "## Helper Functions "
   ]
  },
  {
   "cell_type": "code",
   "execution_count": null,
   "metadata": {
    "id": "i36gdr7sY_Ds"
   },
   "outputs": [],
   "source": [
    "def scaled(df):\n",
    "    from sklearn.preprocessing import StandardScaler, normalize\n",
    "    import pandas as pd \n",
    "    x_scaled = normalize(df)\n",
    "    df_scaled=pd.DataFrame(x_scaled,columns=list(df.columns))\n",
    "    return df_scaled \n",
    "\n",
    "def pca(data,n):\n",
    "    \n",
    "    \"\"\"This function is used to reduced the dimention of data frame \"\"\"\n",
    "    \n",
    "    pca = PCA(n)\n",
    " \n",
    "    df_pca = pca.fit_transform(data)\n",
    "    \n",
    "    principalDf = pd.DataFrame(data =df_pca\n",
    "             , columns = ['principal component 1', 'principal component 2'])\n",
    "    \n",
    "    return principalDf\n",
    "\n",
    "def scatter(df,x,y,label):\n",
    "    \"\"\"Scatter plot betwween x and y variables \"\"\"\n",
    "    import seaborn as sns\n",
    "    sns.scatterplot(data=df,x=x,y=y,hue=label)\n",
    "    \n",
    "def bic(X):\n",
    "\n",
    "  bic_scores = []\n",
    "  no_of_comp=[]\n",
    "  for i in range (1,10):\n",
    "      #print(i)\n",
    "      gm = GaussianMixture(n_components=i, random_state=0).fit(X_train)\n",
    "      #print(gm.bic(X_train))\n",
    "      bic_scores.append(gm.bic(X_train))\n",
    "      no_of_comp.append(i)\n",
    "      plt.plot(no_of_comp,bic_scores) \n",
    "  plt.show()\n",
    "  print(bic_scores)\n",
    "  print(no_of_comp)\n",
    "\n",
    "    \n",
    "    \n",
    "    \n",
    "    \n",
    "    \n",
    "\n",
    "\n"
   ]
  },
  {
   "cell_type": "code",
   "execution_count": null,
   "metadata": {
    "id": "s8TLYqsRdCR2"
   },
   "outputs": [],
   "source": [
    "x=df.iloc[:,:-1]\n",
    "y=df.iloc[:,-1]\n"
   ]
  },
  {
   "cell_type": "code",
   "execution_count": null,
   "metadata": {
    "colab": {
     "base_uri": "https://localhost:8080/",
     "height": 175
    },
    "id": "_rSuoU04ZBcj",
    "outputId": "3e57c0a4-2418-44f1-aaf5-ab33c87e851f"
   },
   "outputs": [
    {
     "data": {
      "text/html": [
       "\n",
       "  <div id=\"df-4513801c-2695-410c-a11d-2246b45b4c7e\">\n",
       "    <div class=\"colab-df-container\">\n",
       "      <div>\n",
       "<style scoped>\n",
       "    .dataframe tbody tr th:only-of-type {\n",
       "        vertical-align: middle;\n",
       "    }\n",
       "\n",
       "    .dataframe tbody tr th {\n",
       "        vertical-align: top;\n",
       "    }\n",
       "\n",
       "    .dataframe thead th {\n",
       "        text-align: right;\n",
       "    }\n",
       "</style>\n",
       "<table border=\"1\" class=\"dataframe\">\n",
       "  <thead>\n",
       "    <tr style=\"text-align: right;\">\n",
       "      <th></th>\n",
       "      <th>principal component 1</th>\n",
       "      <th>principal component 2</th>\n",
       "      <th>Labels</th>\n",
       "    </tr>\n",
       "  </thead>\n",
       "  <tbody>\n",
       "    <tr>\n",
       "      <th>0</th>\n",
       "      <td>-0.096859</td>\n",
       "      <td>0.476134</td>\n",
       "      <td>0</td>\n",
       "    </tr>\n",
       "    <tr>\n",
       "      <th>1</th>\n",
       "      <td>-0.087083</td>\n",
       "      <td>0.488507</td>\n",
       "      <td>0</td>\n",
       "    </tr>\n",
       "    <tr>\n",
       "      <th>2</th>\n",
       "      <td>0.266500</td>\n",
       "      <td>0.642218</td>\n",
       "      <td>0</td>\n",
       "    </tr>\n",
       "    <tr>\n",
       "      <th>3</th>\n",
       "      <td>-0.350350</td>\n",
       "      <td>0.172980</td>\n",
       "      <td>0</td>\n",
       "    </tr>\n",
       "  </tbody>\n",
       "</table>\n",
       "</div>\n",
       "      <button class=\"colab-df-convert\" onclick=\"convertToInteractive('df-4513801c-2695-410c-a11d-2246b45b4c7e')\"\n",
       "              title=\"Convert this dataframe to an interactive table.\"\n",
       "              style=\"display:none;\">\n",
       "        \n",
       "  <svg xmlns=\"http://www.w3.org/2000/svg\" height=\"24px\"viewBox=\"0 0 24 24\"\n",
       "       width=\"24px\">\n",
       "    <path d=\"M0 0h24v24H0V0z\" fill=\"none\"/>\n",
       "    <path d=\"M18.56 5.44l.94 2.06.94-2.06 2.06-.94-2.06-.94-.94-2.06-.94 2.06-2.06.94zm-11 1L8.5 8.5l.94-2.06 2.06-.94-2.06-.94L8.5 2.5l-.94 2.06-2.06.94zm10 10l.94 2.06.94-2.06 2.06-.94-2.06-.94-.94-2.06-.94 2.06-2.06.94z\"/><path d=\"M17.41 7.96l-1.37-1.37c-.4-.4-.92-.59-1.43-.59-.52 0-1.04.2-1.43.59L10.3 9.45l-7.72 7.72c-.78.78-.78 2.05 0 2.83L4 21.41c.39.39.9.59 1.41.59.51 0 1.02-.2 1.41-.59l7.78-7.78 2.81-2.81c.8-.78.8-2.07 0-2.86zM5.41 20L4 18.59l7.72-7.72 1.47 1.35L5.41 20z\"/>\n",
       "  </svg>\n",
       "      </button>\n",
       "      \n",
       "  <style>\n",
       "    .colab-df-container {\n",
       "      display:flex;\n",
       "      flex-wrap:wrap;\n",
       "      gap: 12px;\n",
       "    }\n",
       "\n",
       "    .colab-df-convert {\n",
       "      background-color: #E8F0FE;\n",
       "      border: none;\n",
       "      border-radius: 50%;\n",
       "      cursor: pointer;\n",
       "      display: none;\n",
       "      fill: #1967D2;\n",
       "      height: 32px;\n",
       "      padding: 0 0 0 0;\n",
       "      width: 32px;\n",
       "    }\n",
       "\n",
       "    .colab-df-convert:hover {\n",
       "      background-color: #E2EBFA;\n",
       "      box-shadow: 0px 1px 2px rgba(60, 64, 67, 0.3), 0px 1px 3px 1px rgba(60, 64, 67, 0.15);\n",
       "      fill: #174EA6;\n",
       "    }\n",
       "\n",
       "    [theme=dark] .colab-df-convert {\n",
       "      background-color: #3B4455;\n",
       "      fill: #D2E3FC;\n",
       "    }\n",
       "\n",
       "    [theme=dark] .colab-df-convert:hover {\n",
       "      background-color: #434B5C;\n",
       "      box-shadow: 0px 1px 3px 1px rgba(0, 0, 0, 0.15);\n",
       "      filter: drop-shadow(0px 1px 2px rgba(0, 0, 0, 0.3));\n",
       "      fill: #FFFFFF;\n",
       "    }\n",
       "  </style>\n",
       "\n",
       "      <script>\n",
       "        const buttonEl =\n",
       "          document.querySelector('#df-4513801c-2695-410c-a11d-2246b45b4c7e button.colab-df-convert');\n",
       "        buttonEl.style.display =\n",
       "          google.colab.kernel.accessAllowed ? 'block' : 'none';\n",
       "\n",
       "        async function convertToInteractive(key) {\n",
       "          const element = document.querySelector('#df-4513801c-2695-410c-a11d-2246b45b4c7e');\n",
       "          const dataTable =\n",
       "            await google.colab.kernel.invokeFunction('convertToInteractive',\n",
       "                                                     [key], {});\n",
       "          if (!dataTable) return;\n",
       "\n",
       "          const docLinkHtml = 'Like what you see? Visit the ' +\n",
       "            '<a target=\"_blank\" href=https://colab.research.google.com/notebooks/data_table.ipynb>data table notebook</a>'\n",
       "            + ' to learn more about interactive tables.';\n",
       "          element.innerHTML = '';\n",
       "          dataTable['output_type'] = 'display_data';\n",
       "          await google.colab.output.renderOutput(dataTable, element);\n",
       "          const docLink = document.createElement('div');\n",
       "          docLink.innerHTML = docLinkHtml;\n",
       "          element.appendChild(docLink);\n",
       "        }\n",
       "      </script>\n",
       "    </div>\n",
       "  </div>\n",
       "  "
      ],
      "text/plain": [
       "   principal component 1  principal component 2  Labels\n",
       "0              -0.096859               0.476134       0\n",
       "1              -0.087083               0.488507       0\n",
       "2               0.266500               0.642218       0\n",
       "3              -0.350350               0.172980       0"
      ]
     },
     "execution_count": 8,
     "metadata": {},
     "output_type": "execute_result"
    }
   ],
   "source": [
    "dfscaled=scaled(x)\n",
    "dfpca=pca(dfscaled,2)\n",
    "dfpca['Labels']=y\n",
    "dfpca.head(4)"
   ]
  },
  {
   "cell_type": "markdown",
   "metadata": {
    "id": "fjdTTtZiaTp-"
   },
   "source": [
    "## Plot"
   ]
  },
  {
   "cell_type": "code",
   "execution_count": null,
   "metadata": {
    "colab": {
     "base_uri": "https://localhost:8080/",
     "height": 279
    },
    "id": "D4TLIxLBZyXP",
    "outputId": "dc423091-dfc2-4fe6-adf8-915b6d676cae"
   },
   "outputs": [
    {
     "data": {
      "image/png": "[encoded data removed]",
      "text/plain": [
       "<Figure size 432x288 with 1 Axes>"
      ]
     },
     "metadata": {
      "needs_background": "light"
     },
     "output_type": "display_data"
    }
   ],
   "source": [
    "scatter(dfpca,'principal component 1','principal component 2','Labels')"
   ]
  },
  {
   "cell_type": "code",
   "execution_count": null,
   "metadata": {
    "id": "lcygrXGlb243"
   },
   "outputs": [],
   "source": [
    "dfscaled['Label']=y\n"
   ]
  },
  {
   "cell_type": "markdown",
   "metadata": {
    "id": "kPQCeXVoeAez"
   },
   "source": [
    "Data preparation for training GMM"
   ]
  },
  {
   "cell_type": "code",
   "execution_count": null,
   "metadata": {
    "colab": {
     "base_uri": "https://localhost:8080/",
     "height": 175
    },
    "id": "UJQZU9W2aoLb",
    "outputId": "57553b98-65a6-4b77-e3cd-523b1df3154b"
   },
   "outputs": [
    {
     "data": {
      "text/html": [
       "\n",
       "  <div id=\"df-2c6a7f18-be11-4292-a236-581f4452bd25\">\n",
       "    <div class=\"colab-df-container\">\n",
       "      <div>\n",
       "<style scoped>\n",
       "    .dataframe tbody tr th:only-of-type {\n",
       "        vertical-align: middle;\n",
       "    }\n",
       "\n",
       "    .dataframe tbody tr th {\n",
       "        vertical-align: top;\n",
       "    }\n",
       "\n",
       "    .dataframe thead th {\n",
       "        text-align: right;\n",
       "    }\n",
       "</style>\n",
       "<table border=\"1\" class=\"dataframe\">\n",
       "  <thead>\n",
       "    <tr style=\"text-align: right;\">\n",
       "      <th></th>\n",
       "      <th>0</th>\n",
       "      <th>1</th>\n",
       "      <th>2</th>\n",
       "      <th>3</th>\n",
       "      <th>4</th>\n",
       "      <th>5</th>\n",
       "      <th>6</th>\n",
       "      <th>7</th>\n",
       "      <th>8</th>\n",
       "      <th>9</th>\n",
       "    </tr>\n",
       "  </thead>\n",
       "  <tbody>\n",
       "    <tr>\n",
       "      <th>0</th>\n",
       "      <td>0.375821</td>\n",
       "      <td>0.018630</td>\n",
       "      <td>0.001206</td>\n",
       "      <td>0.035920</td>\n",
       "      <td>0.008712</td>\n",
       "      <td>0.426216</td>\n",
       "      <td>0.031363</td>\n",
       "      <td>0.031899</td>\n",
       "      <td>0.018094</td>\n",
       "      <td>0.820399</td>\n",
       "    </tr>\n",
       "    <tr>\n",
       "      <th>1</th>\n",
       "      <td>0.371810</td>\n",
       "      <td>0.020693</td>\n",
       "      <td>0.002403</td>\n",
       "      <td>0.032308</td>\n",
       "      <td>0.015754</td>\n",
       "      <td>0.412529</td>\n",
       "      <td>0.031774</td>\n",
       "      <td>0.031774</td>\n",
       "      <td>0.016288</td>\n",
       "      <td>0.829196</td>\n",
       "    </tr>\n",
       "    <tr>\n",
       "      <th>2</th>\n",
       "      <td>0.392087</td>\n",
       "      <td>0.020068</td>\n",
       "      <td>0.000912</td>\n",
       "      <td>0.045609</td>\n",
       "      <td>-0.002280</td>\n",
       "      <td>0.010186</td>\n",
       "      <td>0.034967</td>\n",
       "      <td>0.036031</td>\n",
       "      <td>0.021284</td>\n",
       "      <td>0.916897</td>\n",
       "    </tr>\n",
       "    <tr>\n",
       "      <th>3</th>\n",
       "      <td>0.397830</td>\n",
       "      <td>0.020815</td>\n",
       "      <td>0.001516</td>\n",
       "      <td>0.051142</td>\n",
       "      <td>0.003584</td>\n",
       "      <td>0.724117</td>\n",
       "      <td>0.032256</td>\n",
       "      <td>0.033084</td>\n",
       "      <td>0.018747</td>\n",
       "      <td>0.558423</td>\n",
       "    </tr>\n",
       "  </tbody>\n",
       "</table>\n",
       "</div>\n",
       "      <button class=\"colab-df-convert\" onclick=\"convertToInteractive('df-2c6a7f18-be11-4292-a236-581f4452bd25')\"\n",
       "              title=\"Convert this dataframe to an interactive table.\"\n",
       "              style=\"display:none;\">\n",
       "        \n",
       "  <svg xmlns=\"http://www.w3.org/2000/svg\" height=\"24px\"viewBox=\"0 0 24 24\"\n",
       "       width=\"24px\">\n",
       "    <path d=\"M0 0h24v24H0V0z\" fill=\"none\"/>\n",
       "    <path d=\"M18.56 5.44l.94 2.06.94-2.06 2.06-.94-2.06-.94-.94-2.06-.94 2.06-2.06.94zm-11 1L8.5 8.5l.94-2.06 2.06-.94-2.06-.94L8.5 2.5l-.94 2.06-2.06.94zm10 10l.94 2.06.94-2.06 2.06-.94-2.06-.94-.94-2.06-.94 2.06-2.06.94z\"/><path d=\"M17.41 7.96l-1.37-1.37c-.4-.4-.92-.59-1.43-.59-.52 0-1.04.2-1.43.59L10.3 9.45l-7.72 7.72c-.78.78-.78 2.05 0 2.83L4 21.41c.39.39.9.59 1.41.59.51 0 1.02-.2 1.41-.59l7.78-7.78 2.81-2.81c.8-.78.8-2.07 0-2.86zM5.41 20L4 18.59l7.72-7.72 1.47 1.35L5.41 20z\"/>\n",
       "  </svg>\n",
       "      </button>\n",
       "      \n",
       "  <style>\n",
       "    .colab-df-container {\n",
       "      display:flex;\n",
       "      flex-wrap:wrap;\n",
       "      gap: 12px;\n",
       "    }\n",
       "\n",
       "    .colab-df-convert {\n",
       "      background-color: #E8F0FE;\n",
       "      border: none;\n",
       "      border-radius: 50%;\n",
       "      cursor: pointer;\n",
       "      display: none;\n",
       "      fill: #1967D2;\n",
       "      height: 32px;\n",
       "      padding: 0 0 0 0;\n",
       "      width: 32px;\n",
       "    }\n",
       "\n",
       "    .colab-df-convert:hover {\n",
       "      background-color: #E2EBFA;\n",
       "      box-shadow: 0px 1px 2px rgba(60, 64, 67, 0.3), 0px 1px 3px 1px rgba(60, 64, 67, 0.15);\n",
       "      fill: #174EA6;\n",
       "    }\n",
       "\n",
       "    [theme=dark] .colab-df-convert {\n",
       "      background-color: #3B4455;\n",
       "      fill: #D2E3FC;\n",
       "    }\n",
       "\n",
       "    [theme=dark] .colab-df-convert:hover {\n",
       "      background-color: #434B5C;\n",
       "      box-shadow: 0px 1px 3px 1px rgba(0, 0, 0, 0.15);\n",
       "      filter: drop-shadow(0px 1px 2px rgba(0, 0, 0, 0.3));\n",
       "      fill: #FFFFFF;\n",
       "    }\n",
       "  </style>\n",
       "\n",
       "      <script>\n",
       "        const buttonEl =\n",
       "          document.querySelector('#df-2c6a7f18-be11-4292-a236-581f4452bd25 button.colab-df-convert');\n",
       "        buttonEl.style.display =\n",
       "          google.colab.kernel.accessAllowed ? 'block' : 'none';\n",
       "\n",
       "        async function convertToInteractive(key) {\n",
       "          const element = document.querySelector('#df-2c6a7f18-be11-4292-a236-581f4452bd25');\n",
       "          const dataTable =\n",
       "            await google.colab.kernel.invokeFunction('convertToInteractive',\n",
       "                                                     [key], {});\n",
       "          if (!dataTable) return;\n",
       "\n",
       "          const docLinkHtml = 'Like what you see? Visit the ' +\n",
       "            '<a target=\"_blank\" href=https://colab.research.google.com/notebooks/data_table.ipynb>data table notebook</a>'\n",
       "            + ' to learn more about interactive tables.';\n",
       "          element.innerHTML = '';\n",
       "          dataTable['output_type'] = 'display_data';\n",
       "          await google.colab.output.renderOutput(dataTable, element);\n",
       "          const docLink = document.createElement('div');\n",
       "          docLink.innerHTML = docLinkHtml;\n",
       "          element.appendChild(docLink);\n",
       "        }\n",
       "      </script>\n",
       "    </div>\n",
       "  </div>\n",
       "  "
      ],
      "text/plain": [
       "          0         1         2         3         4         5         6  \\\n",
       "0  0.375821  0.018630  0.001206  0.035920  0.008712  0.426216  0.031363   \n",
       "1  0.371810  0.020693  0.002403  0.032308  0.015754  0.412529  0.031774   \n",
       "2  0.392087  0.020068  0.000912  0.045609 -0.002280  0.010186  0.034967   \n",
       "3  0.397830  0.020815  0.001516  0.051142  0.003584  0.724117  0.032256   \n",
       "\n",
       "          7         8         9  \n",
       "0  0.031899  0.018094  0.820399  \n",
       "1  0.031774  0.016288  0.829196  \n",
       "2  0.036031  0.021284  0.916897  \n",
       "3  0.033084  0.018747  0.558423  "
      ]
     },
     "execution_count": 11,
     "metadata": {},
     "output_type": "execute_result"
    }
   ],
   "source": [
    "#seperating inliers and ouliers \n",
    "\n",
    "inliers=dfscaled[dfscaled['Label']==0] \n",
    "outliers=dfscaled[dfscaled['Label']==1]\n",
    "X_outlier=outliers.iloc[:,:-1]\n",
    "\n",
    "X_inlier=inliers.iloc[:,:-1]\n",
    "X_inlier.head(4)"
   ]
  },
  {
   "cell_type": "markdown",
   "metadata": {
    "id": "YhswF9KDdu9M"
   },
   "source": [
    "Train Test Split"
   ]
  },
  {
   "cell_type": "code",
   "execution_count": null,
   "metadata": {
    "id": "tlO3ndidaroI"
   },
   "outputs": [],
   "source": [
    "#Traing Test split the inliers data  \n",
    "X_train, X_test = train_test_split(X_inlier, test_size=0.3, random_state=1)\n"
   ]
  },
  {
   "cell_type": "markdown",
   "metadata": {
    "id": "xLWy92t7dzgY"
   },
   "source": [
    "No of Components Selection "
   ]
  },
  {
   "cell_type": "code",
   "execution_count": null,
   "metadata": {
    "colab": {
     "base_uri": "https://localhost:8080/",
     "height": 331
    },
    "id": "lv05sTVYcjrf",
    "outputId": "76be33b1-a36f-4af8-c65c-5db414a80a4e"
   },
   "outputs": [
    {
     "data": {
      "image/png": "[encoded data removed]",
      "text/plain": [
       "<Figure size 432x288 with 1 Axes>"
      ]
     },
     "metadata": {
      "needs_background": "light"
     },
     "output_type": "display_data"
    },
    {
     "name": "stdout",
     "output_type": "stream",
     "text": [
      "[-10320926.871245708, -10816558.150533643, -11032698.546219693, -11147505.419434508, -11272816.921848446, -11380459.372223752, -11455132.40982607, -11491946.99716359, -11579765.768467873]\n",
      "[1, 2, 3, 4, 5, 6, 7, 8, 9]\n"
     ]
    }
   ],
   "source": [
    "bic(X_train)"
   ]
  },
  {
   "cell_type": "markdown",
   "metadata": {
    "id": "XJiBNu-xdtPo"
   },
   "source": [
    "Fit GMM \n"
   ]
  },
  {
   "cell_type": "code",
   "execution_count": null,
   "metadata": {
    "id": "MrukQQjTeK9S"
   },
   "outputs": [],
   "source": [
    "gm = GaussianMixture(n_components=4, random_state=0).fit(X_train)\n"
   ]
  },
  {
   "cell_type": "markdown",
   "metadata": {
    "id": "KbECV0z4SjsO"
   },
   "source": [
    "Predicting the components for each data Points (Train/Test)\n"
   ]
  },
  {
   "cell_type": "code",
   "execution_count": null,
   "metadata": {
    "id": "AArSsH_ulu1H"
   },
   "outputs": [],
   "source": [
    "train_components=gm.predict(X_train)\n",
    "test_components=gm.predict(X_test)"
   ]
  },
  {
   "cell_type": "code",
   "execution_count": null,
   "metadata": {
    "colab": {
     "base_uri": "https://localhost:8080/"
    },
    "id": "4TII3e31e1d5",
    "outputId": "2c390bc6-34a2-4681-8b8f-9948e1429cb4"
   },
   "outputs": [
    {
     "name": "stdout",
     "output_type": "stream",
     "text": [
      "frequncy of train clusters Counter({0: 63464, 3: 48156, 2: 44674, 1: 42016})\n",
      "frequncy of test clusters Counter({0: 26999, 3: 20884, 2: 19320, 1: 17788})\n"
     ]
    }
   ],
   "source": [
    "#Frequency count of each predicted components \n",
    "import collections\n",
    "print(\"frequncy of train clusters\",collections.Counter(train_components))\n",
    "print(\"frequncy of test clusters\",collections.Counter(test_components))"
   ]
  },
  {
   "cell_type": "markdown",
   "metadata": {
    "id": "7nE_FDe8YNMH"
   },
   "source": [
    "Test Performance "
   ]
  },
  {
   "cell_type": "code",
   "execution_count": null,
   "metadata": {
    "colab": {
     "base_uri": "https://localhost:8080/",
     "height": 296
    },
    "id": "YoWVn346jN-P",
    "outputId": "61431f5d-51dc-49cf-af59-b1f7728de2eb"
   },
   "outputs": [
    {
     "name": "stdout",
     "output_type": "stream",
     "text": [
      "Estimated no of clusters of Test data\n"
     ]
    },
    {
     "data": {
      "image/png": "[encoded data removed]",
      "text/plain": [
       "<Figure size 432x288 with 1 Axes>"
      ]
     },
     "metadata": {
      "needs_background": "light"
     },
     "output_type": "display_data"
    }
   ],
   "source": [
    "# Plot estimated no of components of test data \n",
    "X_test\n",
    "test_components\n",
    "testdf=pca(X_test,2)\n",
    "testdf['Gmm componenst']=test_components\n",
    "testdf\n",
    "print('Estimated no of clusters of Test data')\n",
    "scatter(testdf,'principal component 1','principal component 2','Gmm componenst')"
   ]
  },
  {
   "cell_type": "code",
   "execution_count": null,
   "metadata": {
    "colab": {
     "base_uri": "https://localhost:8080/"
    },
    "id": "K_bFEYKOfKYF",
    "outputId": "39095f26-b7d4-4ff1-89bc-6ccfd91d950d"
   },
   "outputs": [
    {
     "name": "stdout",
     "output_type": "stream",
     "text": [
      "Test performance\n",
      " \n",
      "Test size 84991\n",
      "No of Hard members 62872\n",
      "No of Soft Members 22119\n"
     ]
    }
   ],
   "source": [
    "#Calculating the probability Matrix of each test data point \n",
    "\n",
    "test_prob=gm.predict_proba(X_test).round(1)\n",
    "\n",
    "\n",
    "# Finding Hard and soft members if prob>0.9 , Hard Member else soft members\n",
    "\n",
    "Hard_member=np.any(test_prob >0.9, axis=1)\n",
    "Hard_members=np.array(np.where(Hard_member==True)).size\n",
    "\n",
    "#checking the no of hard and soft members in testing data \n",
    "\n",
    "Total_test=test_prob.shape[0]\n",
    "soft_members=Total_test-Hard_members\n",
    "print(\"Test performance\")\n",
    "print(\" \")\n",
    "print(\"Test size\",Total_test)\n",
    "print(\"No of Hard members\",Hard_members)\n",
    "print(\"No of Soft Members\",soft_members)"
   ]
  },
  {
   "cell_type": "code",
   "execution_count": null,
   "metadata": {
    "colab": {
     "base_uri": "https://localhost:8080/"
    },
    "id": "rkKoLTdkW7Vi",
    "outputId": "d2777b1b-5f58-4144-ac71-75bd319a7571"
   },
   "outputs": [
    {
     "name": "stdout",
     "output_type": "stream",
     "text": [
      "Silhouette Coefficient: 0.272\n"
     ]
    }
   ],
   "source": [
    " \n",
    "print(\"Silhouette Coefficient: %0.3f\" % metrics.silhouette_score(X_test,test_components))"
   ]
  },
  {
   "cell_type": "markdown",
   "metadata": {
    "id": "TKYUfoqxYZQe"
   },
   "source": [
    "Passing Anomalous data to the trained GMM and check where majority of points settled "
   ]
  },
  {
   "cell_type": "code",
   "execution_count": null,
   "metadata": {
    "colab": {
     "base_uri": "https://localhost:8080/"
    },
    "id": "v0PSIBqFpWHr",
    "outputId": "30fb1cb1-5f11-458f-cc36-918e8203131d"
   },
   "outputs": [
    {
     "name": "stdout",
     "output_type": "stream",
     "text": [
      "Counter({1: 2385, 3: 362})\n",
      "Total Anomalies count 2747\n",
      "No of Hard members 2377\n",
      "No of Soft Members 370\n",
      "Silhouette Coefficient: 0.276\n"
     ]
    }
   ],
   "source": [
    "#checking the no of hard and soft members in outliers data \n",
    "\n",
    "Outliers_components=gm.predict(X_outlier)\n",
    "print(collections.Counter(Outliers_components))\n",
    "Anomaly_prob=gm.predict_proba(X_outlier).round(1)\n",
    "Hard_member=np.any(Anomaly_prob >0.9, axis=1)\n",
    "Hard_members=np.array(np.where(Hard_member==True)).size\n",
    "Total_Anamolies =Anomaly_prob.shape[0]\n",
    "soft_members=Total_Anamolies-Hard_members\n",
    "print(\"Total Anomalies count\",Total_Anamolies)\n",
    "print(\"No of Hard members\",Hard_members)\n",
    "print(\"No of Soft Members\",soft_members)\n",
    "print(\"Silhouette Coefficient: %0.3f\" % metrics.silhouette_score(X_outlier,Outliers_components))"
   ]
  },
  {
   "cell_type": "markdown",
   "metadata": {
    "id": "ssQ63WpyOr1x"
   },
   "source": [
    "# Statistical Distance "
   ]
  },
  {
   "cell_type": "markdown",
   "metadata": {
    "id": "0GWYCsAyNlKS"
   },
   "source": [
    "Our GMM model suggest that Anomalies belong to 2 components (1,3) however majority of the data point are well settled in component 1  and are hard members of component 1 . \n",
    "Now we have clear evidence of anomolous component and we can hypothetically say that any data point close to component 1 has a high probability of being marked as \"Anomaly\".\n",
    "\n",
    "In the next few cells we will try to prove our hypothsis 'True' by using a statistical distances (mahalanobis distance) or (Kl divergence ) .Statistical distance quantifies the distance between two statistical objects. In our case we are interested to find the distance between Gausian components and Anomalies.\n",
    "\n",
    "Mahalanobis distance is an extremely useful metric having, excellent applications in multivariate anomaly detection, classification on highly imbalanced datasets . It takes into account the correlations between the different dimensions of the data when calculating the distance, rather than treating each dimension independently like the Euclidean distance does.\n",
    "The covariance matrix is used in the calculation of the Mahalanobis distance because it encodes the correlations between the different dimensions of the data. This allows the distance measure to effectively capture the relationships between the dimensions and provide a more accurate reflection of the distance between the two points in the multivariate space.\n",
    "\n"
   ]
  },
  {
   "cell_type": "code",
   "execution_count": null,
   "metadata": {
    "id": "VJvIwQQZO6Lc"
   },
   "outputs": [],
   "source": [
    "# Seperating the components \n",
    "test_new=X_test.copy() \n",
    "test_new[\"Components\"]=test_components\n",
    "comp0=test_new[test_new['Components']==0]\n",
    "comp1=test_new[test_new['Components']==1]\n",
    "comp2=test_new[test_new['Components']==2]\n",
    "comp3=test_new[test_new['Components']==3]"
   ]
  },
  {
   "cell_type": "code",
   "execution_count": null,
   "metadata": {
    "colab": {
     "base_uri": "https://localhost:8080/"
    },
    "id": "NryZ8vL6XvC4",
    "outputId": "cb59c720-4281-4736-df06-f60ee16f3889"
   },
   "outputs": [
    {
     "name": "stdout",
     "output_type": "stream",
     "text": [
      "Shape of mean vector (1, 10)\n",
      "Shape of inverse covariance matrix (10, 10)\n"
     ]
    }
   ],
   "source": [
    "# components Mean and inverse covariance \n",
    "\n",
    "# 1st component\n",
    "\n",
    "Mean_comp0=comp0.iloc[:,:-1].mean().values.reshape(1,-1)\n",
    "print(\"Shape of mean vector\",Mean_comp0.shape)\n",
    "cov_comp0=comp0.iloc[:,:-1].cov()\n",
    "inv0=np.linalg.inv(cov_comp0)\n",
    "print(\"Shape of inverse covariance matrix\",inv0.shape)\n",
    "\n",
    "# 2nd  component\n",
    "\n",
    "Mean_comp1=comp1.iloc[:,:-1].mean().values.reshape(1,-1)\n",
    "\n",
    "cov_comp1=comp1.iloc[:,:-1].cov()\n",
    "inv1=np.linalg.inv(cov_comp1)\n",
    "\n",
    "\n",
    "# 3rd  component\n",
    "\n",
    "Mean_comp2=comp2.iloc[:,:-1].mean().values.reshape(1,-1)\n",
    "cov_comp2=comp2.iloc[:,:-1].cov()\n",
    "inv2=np.linalg.inv(cov_comp2)\n",
    "\n",
    "\n",
    "# 4th  component\n",
    "\n",
    "Mean_comp3=comp3.iloc[:,:-1].mean().values.reshape(1,-1)\n",
    "cov_comp3=comp3.iloc[:,:-1].cov()\n",
    "inv3=np.linalg.inv(cov_comp3)\n"
   ]
  },
  {
   "cell_type": "code",
   "execution_count": null,
   "metadata": {
    "id": "EoHQMODOczWk"
   },
   "outputs": [],
   "source": [
    "# calculating point to distribution distance using Mahalonabis distance formula \n",
    "from scipy.spatial.distance import mahalanobis\n",
    "\n",
    "#distance from distribution 1 \n",
    "distance0=[]\n",
    "for index, row in X_outlier.iterrows():\n",
    "    inputs=row.values.reshape(1,-1)\n",
    "    dist=mahalanobis(\n",
    "    inputs, Mean_comp0, inv0\n",
    ")\n",
    "    distance0.append(dist)\n",
    "\n",
    "\n",
    "#distance from distribution 2\n",
    "distance1=[]\n",
    "for index, row in X_outlier.iterrows():\n",
    "    inputs=row.values.reshape(1,-1)\n",
    "    dist=mahalanobis(\n",
    "    inputs, Mean_comp1, inv1\n",
    ")\n",
    "    distance1.append(dist) \n",
    "\n",
    "#distance from distribution 3\n",
    "distance2=[]\n",
    "for index, row in X_outlier.iterrows():\n",
    "    inputs=row.values.reshape(1,-1)\n",
    "    dist=mahalanobis(\n",
    "    inputs, Mean_comp2, inv2\n",
    ")\n",
    "    distance2.append(dist) \n",
    "\n",
    "#Distance from distribution 4\n",
    "\n",
    "distance3=[]\n",
    "for index, row in X_outlier.iterrows():\n",
    "    inputs=row.values.reshape(1,-1)\n",
    "    dist=mahalanobis(\n",
    "    inputs, Mean_comp3, inv3\n",
    ")\n",
    "    distance3.append(dist) "
   ]
  },
  {
   "cell_type": "code",
   "execution_count": null,
   "metadata": {
    "id": "VoLo9muLeOAp"
   },
   "outputs": [],
   "source": [
    "# Creating df for point to Gausian Distribution \n",
    "\n",
    "mahalanobisdf=X_outlier.copy()\n",
    "\n",
    "mahalanobisdf['dist_0']=distance0\n",
    "mahalanobisdf['dist_1']=distance1\n",
    "mahalanobisdf['dist_2']=distance2\n",
    "mahalanobisdf['dist_3']=distance3\n",
    "mahalanobisdf['Gausian Components']=Outliers_components"
   ]
  },
  {
   "cell_type": "code",
   "execution_count": null,
   "metadata": {
    "colab": {
     "base_uri": "https://localhost:8080/",
     "height": 505
    },
    "id": "T26ICQSreySn",
    "outputId": "96c86cf3-b60d-4200-bd7f-3f1d104dc07e"
   },
   "outputs": [
    {
     "data": {
      "text/html": [
       "\n",
       "  <div id=\"df-792d4893-2b4f-41b7-8473-33a5b00199d6\">\n",
       "    <div class=\"colab-df-container\">\n",
       "      <div>\n",
       "<style scoped>\n",
       "    .dataframe tbody tr th:only-of-type {\n",
       "        vertical-align: middle;\n",
       "    }\n",
       "\n",
       "    .dataframe tbody tr th {\n",
       "        vertical-align: top;\n",
       "    }\n",
       "\n",
       "    .dataframe thead th {\n",
       "        text-align: right;\n",
       "    }\n",
       "</style>\n",
       "<table border=\"1\" class=\"dataframe\">\n",
       "  <thead>\n",
       "    <tr style=\"text-align: right;\">\n",
       "      <th></th>\n",
       "      <th>0</th>\n",
       "      <th>1</th>\n",
       "      <th>2</th>\n",
       "      <th>3</th>\n",
       "      <th>4</th>\n",
       "      <th>5</th>\n",
       "      <th>6</th>\n",
       "      <th>7</th>\n",
       "      <th>8</th>\n",
       "      <th>9</th>\n",
       "      <th>dist_0</th>\n",
       "      <th>dist_1</th>\n",
       "      <th>dist_2</th>\n",
       "      <th>dist_3</th>\n",
       "      <th>Gausian Components</th>\n",
       "    </tr>\n",
       "  </thead>\n",
       "  <tbody>\n",
       "    <tr>\n",
       "      <th>825</th>\n",
       "      <td>0.963331</td>\n",
       "      <td>0.153170</td>\n",
       "      <td>0.003372</td>\n",
       "      <td>0.01445</td>\n",
       "      <td>0.001927</td>\n",
       "      <td>0.052020</td>\n",
       "      <td>0.096815</td>\n",
       "      <td>0.112710</td>\n",
       "      <td>0.082846</td>\n",
       "      <td>0.129086</td>\n",
       "      <td>27.673560</td>\n",
       "      <td>7.866205</td>\n",
       "      <td>25.786422</td>\n",
       "      <td>16.836283</td>\n",
       "      <td>1</td>\n",
       "    </tr>\n",
       "    <tr>\n",
       "      <th>828</th>\n",
       "      <td>0.959664</td>\n",
       "      <td>0.170085</td>\n",
       "      <td>0.002875</td>\n",
       "      <td>0.00000</td>\n",
       "      <td>0.000000</td>\n",
       "      <td>0.060847</td>\n",
       "      <td>0.101093</td>\n",
       "      <td>0.110196</td>\n",
       "      <td>0.075221</td>\n",
       "      <td>0.135589</td>\n",
       "      <td>27.461827</td>\n",
       "      <td>8.363071</td>\n",
       "      <td>26.371927</td>\n",
       "      <td>16.999911</td>\n",
       "      <td>1</td>\n",
       "    </tr>\n",
       "    <tr>\n",
       "      <th>831</th>\n",
       "      <td>0.972258</td>\n",
       "      <td>0.022802</td>\n",
       "      <td>0.003881</td>\n",
       "      <td>0.00000</td>\n",
       "      <td>0.000000</td>\n",
       "      <td>0.072774</td>\n",
       "      <td>0.108190</td>\n",
       "      <td>0.108190</td>\n",
       "      <td>0.065496</td>\n",
       "      <td>0.145548</td>\n",
       "      <td>26.563332</td>\n",
       "      <td>6.880204</td>\n",
       "      <td>23.460863</td>\n",
       "      <td>15.449900</td>\n",
       "      <td>1</td>\n",
       "    </tr>\n",
       "    <tr>\n",
       "      <th>833</th>\n",
       "      <td>0.970183</td>\n",
       "      <td>0.035306</td>\n",
       "      <td>0.005320</td>\n",
       "      <td>0.00000</td>\n",
       "      <td>0.000000</td>\n",
       "      <td>0.082219</td>\n",
       "      <td>0.112688</td>\n",
       "      <td>0.105434</td>\n",
       "      <td>0.055619</td>\n",
       "      <td>0.154281</td>\n",
       "      <td>25.649568</td>\n",
       "      <td>6.685724</td>\n",
       "      <td>22.951472</td>\n",
       "      <td>14.870807</td>\n",
       "      <td>1</td>\n",
       "    </tr>\n",
       "    <tr>\n",
       "      <th>834</th>\n",
       "      <td>0.968210</td>\n",
       "      <td>0.038130</td>\n",
       "      <td>0.007723</td>\n",
       "      <td>0.00000</td>\n",
       "      <td>0.000000</td>\n",
       "      <td>0.092670</td>\n",
       "      <td>0.115838</td>\n",
       "      <td>0.100875</td>\n",
       "      <td>0.045852</td>\n",
       "      <td>0.163621</td>\n",
       "      <td>25.129377</td>\n",
       "      <td>6.836474</td>\n",
       "      <td>23.243767</td>\n",
       "      <td>14.596392</td>\n",
       "      <td>1</td>\n",
       "    </tr>\n",
       "    <tr>\n",
       "      <th>...</th>\n",
       "      <td>...</td>\n",
       "      <td>...</td>\n",
       "      <td>...</td>\n",
       "      <td>...</td>\n",
       "      <td>...</td>\n",
       "      <td>...</td>\n",
       "      <td>...</td>\n",
       "      <td>...</td>\n",
       "      <td>...</td>\n",
       "      <td>...</td>\n",
       "      <td>...</td>\n",
       "      <td>...</td>\n",
       "      <td>...</td>\n",
       "      <td>...</td>\n",
       "      <td>...</td>\n",
       "    </tr>\n",
       "    <tr>\n",
       "      <th>175163</th>\n",
       "      <td>0.876769</td>\n",
       "      <td>0.010257</td>\n",
       "      <td>0.001768</td>\n",
       "      <td>0.00000</td>\n",
       "      <td>0.000000</td>\n",
       "      <td>0.144301</td>\n",
       "      <td>0.077102</td>\n",
       "      <td>0.080992</td>\n",
       "      <td>0.051991</td>\n",
       "      <td>0.441744</td>\n",
       "      <td>17.515904</td>\n",
       "      <td>4.035808</td>\n",
       "      <td>8.947210</td>\n",
       "      <td>4.579147</td>\n",
       "      <td>3</td>\n",
       "    </tr>\n",
       "    <tr>\n",
       "      <th>176517</th>\n",
       "      <td>0.910298</td>\n",
       "      <td>0.027701</td>\n",
       "      <td>0.005002</td>\n",
       "      <td>0.00000</td>\n",
       "      <td>0.000000</td>\n",
       "      <td>0.227767</td>\n",
       "      <td>0.090414</td>\n",
       "      <td>0.082335</td>\n",
       "      <td>0.041937</td>\n",
       "      <td>0.319335</td>\n",
       "      <td>14.326806</td>\n",
       "      <td>3.388205</td>\n",
       "      <td>11.711299</td>\n",
       "      <td>5.993295</td>\n",
       "      <td>1</td>\n",
       "    </tr>\n",
       "    <tr>\n",
       "      <th>176740</th>\n",
       "      <td>0.919796</td>\n",
       "      <td>0.052026</td>\n",
       "      <td>0.006354</td>\n",
       "      <td>0.00000</td>\n",
       "      <td>0.000000</td>\n",
       "      <td>0.239878</td>\n",
       "      <td>0.096904</td>\n",
       "      <td>0.091344</td>\n",
       "      <td>0.044083</td>\n",
       "      <td>0.272047</td>\n",
       "      <td>14.795653</td>\n",
       "      <td>4.101596</td>\n",
       "      <td>13.838226</td>\n",
       "      <td>7.755868</td>\n",
       "      <td>1</td>\n",
       "    </tr>\n",
       "    <tr>\n",
       "      <th>176982</th>\n",
       "      <td>0.903454</td>\n",
       "      <td>0.025075</td>\n",
       "      <td>0.004939</td>\n",
       "      <td>0.00000</td>\n",
       "      <td>0.000000</td>\n",
       "      <td>0.246569</td>\n",
       "      <td>0.088142</td>\n",
       "      <td>0.080923</td>\n",
       "      <td>0.041791</td>\n",
       "      <td>0.325973</td>\n",
       "      <td>13.333374</td>\n",
       "      <td>3.233807</td>\n",
       "      <td>10.877893</td>\n",
       "      <td>5.494783</td>\n",
       "      <td>1</td>\n",
       "    </tr>\n",
       "    <tr>\n",
       "      <th>177193</th>\n",
       "      <td>0.899693</td>\n",
       "      <td>0.027138</td>\n",
       "      <td>0.005654</td>\n",
       "      <td>0.00000</td>\n",
       "      <td>0.000000</td>\n",
       "      <td>0.260447</td>\n",
       "      <td>0.088952</td>\n",
       "      <td>0.079152</td>\n",
       "      <td>0.038445</td>\n",
       "      <td>0.326030</td>\n",
       "      <td>12.844500</td>\n",
       "      <td>3.245217</td>\n",
       "      <td>11.064698</td>\n",
       "      <td>5.544406</td>\n",
       "      <td>1</td>\n",
       "    </tr>\n",
       "  </tbody>\n",
       "</table>\n",
       "<p>2747 rows × 15 columns</p>\n",
       "</div>\n",
       "      <button class=\"colab-df-convert\" onclick=\"convertToInteractive('df-792d4893-2b4f-41b7-8473-33a5b00199d6')\"\n",
       "              title=\"Convert this dataframe to an interactive table.\"\n",
       "              style=\"display:none;\">\n",
       "        \n",
       "  <svg xmlns=\"http://www.w3.org/2000/svg\" height=\"24px\"viewBox=\"0 0 24 24\"\n",
       "       width=\"24px\">\n",
       "    <path d=\"M0 0h24v24H0V0z\" fill=\"none\"/>\n",
       "    <path d=\"M18.56 5.44l.94 2.06.94-2.06 2.06-.94-2.06-.94-.94-2.06-.94 2.06-2.06.94zm-11 1L8.5 8.5l.94-2.06 2.06-.94-2.06-.94L8.5 2.5l-.94 2.06-2.06.94zm10 10l.94 2.06.94-2.06 2.06-.94-2.06-.94-.94-2.06-.94 2.06-2.06.94z\"/><path d=\"M17.41 7.96l-1.37-1.37c-.4-.4-.92-.59-1.43-.59-.52 0-1.04.2-1.43.59L10.3 9.45l-7.72 7.72c-.78.78-.78 2.05 0 2.83L4 21.41c.39.39.9.59 1.41.59.51 0 1.02-.2 1.41-.59l7.78-7.78 2.81-2.81c.8-.78.8-2.07 0-2.86zM5.41 20L4 18.59l7.72-7.72 1.47 1.35L5.41 20z\"/>\n",
       "  </svg>\n",
       "      </button>\n",
       "      \n",
       "  <style>\n",
       "    .colab-df-container {\n",
       "      display:flex;\n",
       "      flex-wrap:wrap;\n",
       "      gap: 12px;\n",
       "    }\n",
       "\n",
       "    .colab-df-convert {\n",
       "      background-color: #E8F0FE;\n",
       "      border: none;\n",
       "      border-radius: 50%;\n",
       "      cursor: pointer;\n",
       "      display: none;\n",
       "      fill: #1967D2;\n",
       "      height: 32px;\n",
       "      padding: 0 0 0 0;\n",
       "      width: 32px;\n",
       "    }\n",
       "\n",
       "    .colab-df-convert:hover {\n",
       "      background-color: #E2EBFA;\n",
       "      box-shadow: 0px 1px 2px rgba(60, 64, 67, 0.3), 0px 1px 3px 1px rgba(60, 64, 67, 0.15);\n",
       "      fill: #174EA6;\n",
       "    }\n",
       "\n",
       "    [theme=dark] .colab-df-convert {\n",
       "      background-color: #3B4455;\n",
       "      fill: #D2E3FC;\n",
       "    }\n",
       "\n",
       "    [theme=dark] .colab-df-convert:hover {\n",
       "      background-color: #434B5C;\n",
       "      box-shadow: 0px 1px 3px 1px rgba(0, 0, 0, 0.15);\n",
       "      filter: drop-shadow(0px 1px 2px rgba(0, 0, 0, 0.3));\n",
       "      fill: #FFFFFF;\n",
       "    }\n",
       "  </style>\n",
       "\n",
       "      <script>\n",
       "        const buttonEl =\n",
       "          document.querySelector('#df-792d4893-2b4f-41b7-8473-33a5b00199d6 button.colab-df-convert');\n",
       "        buttonEl.style.display =\n",
       "          google.colab.kernel.accessAllowed ? 'block' : 'none';\n",
       "\n",
       "        async function convertToInteractive(key) {\n",
       "          const element = document.querySelector('#df-792d4893-2b4f-41b7-8473-33a5b00199d6');\n",
       "          const dataTable =\n",
       "            await google.colab.kernel.invokeFunction('convertToInteractive',\n",
       "                                                     [key], {});\n",
       "          if (!dataTable) return;\n",
       "\n",
       "          const docLinkHtml = 'Like what you see? Visit the ' +\n",
       "            '<a target=\"_blank\" href=https://colab.research.google.com/notebooks/data_table.ipynb>data table notebook</a>'\n",
       "            + ' to learn more about interactive tables.';\n",
       "          element.innerHTML = '';\n",
       "          dataTable['output_type'] = 'display_data';\n",
       "          await google.colab.output.renderOutput(dataTable, element);\n",
       "          const docLink = document.createElement('div');\n",
       "          docLink.innerHTML = docLinkHtml;\n",
       "          element.appendChild(docLink);\n",
       "        }\n",
       "      </script>\n",
       "    </div>\n",
       "  </div>\n",
       "  "
      ],
      "text/plain": [
       "               0         1         2        3         4         5         6  \\\n",
       "825     0.963331  0.153170  0.003372  0.01445  0.001927  0.052020  0.096815   \n",
       "828     0.959664  0.170085  0.002875  0.00000  0.000000  0.060847  0.101093   \n",
       "831     0.972258  0.022802  0.003881  0.00000  0.000000  0.072774  0.108190   \n",
       "833     0.970183  0.035306  0.005320  0.00000  0.000000  0.082219  0.112688   \n",
       "834     0.968210  0.038130  0.007723  0.00000  0.000000  0.092670  0.115838   \n",
       "...          ...       ...       ...      ...       ...       ...       ...   \n",
       "175163  0.876769  0.010257  0.001768  0.00000  0.000000  0.144301  0.077102   \n",
       "176517  0.910298  0.027701  0.005002  0.00000  0.000000  0.227767  0.090414   \n",
       "176740  0.919796  0.052026  0.006354  0.00000  0.000000  0.239878  0.096904   \n",
       "176982  0.903454  0.025075  0.004939  0.00000  0.000000  0.246569  0.088142   \n",
       "177193  0.899693  0.027138  0.005654  0.00000  0.000000  0.260447  0.088952   \n",
       "\n",
       "               7         8         9     dist_0    dist_1     dist_2  \\\n",
       "825     0.112710  0.082846  0.129086  27.673560  7.866205  25.786422   \n",
       "828     0.110196  0.075221  0.135589  27.461827  8.363071  26.371927   \n",
       "831     0.108190  0.065496  0.145548  26.563332  6.880204  23.460863   \n",
       "833     0.105434  0.055619  0.154281  25.649568  6.685724  22.951472   \n",
       "834     0.100875  0.045852  0.163621  25.129377  6.836474  23.243767   \n",
       "...          ...       ...       ...        ...       ...        ...   \n",
       "175163  0.080992  0.051991  0.441744  17.515904  4.035808   8.947210   \n",
       "176517  0.082335  0.041937  0.319335  14.326806  3.388205  11.711299   \n",
       "176740  0.091344  0.044083  0.272047  14.795653  4.101596  13.838226   \n",
       "176982  0.080923  0.041791  0.325973  13.333374  3.233807  10.877893   \n",
       "177193  0.079152  0.038445  0.326030  12.844500  3.245217  11.064698   \n",
       "\n",
       "           dist_3  Gausian Components  \n",
       "825     16.836283                   1  \n",
       "828     16.999911                   1  \n",
       "831     15.449900                   1  \n",
       "833     14.870807                   1  \n",
       "834     14.596392                   1  \n",
       "...           ...                 ...  \n",
       "175163   4.579147                   3  \n",
       "176517   5.993295                   1  \n",
       "176740   7.755868                   1  \n",
       "176982   5.494783                   1  \n",
       "177193   5.544406                   1  \n",
       "\n",
       "[2747 rows x 15 columns]"
      ]
     },
     "execution_count": 33,
     "metadata": {},
     "output_type": "execute_result"
    }
   ],
   "source": [
    "mahalanobisdf"
   ]
  },
  {
   "cell_type": "markdown",
   "metadata": {
    "id": "O5FqZAi7lwCe"
   },
   "source": []
  },
  {
   "cell_type": "code",
   "execution_count": null,
   "metadata": {
    "colab": {
     "base_uri": "https://localhost:8080/",
     "height": 382
    },
    "id": "o3gNX-m8mDCY",
    "outputId": "468dbde4-c5e5-468c-b88e-7926ea2eb049"
   },
   "outputs": [
    {
     "data": {
      "text/html": [
       "\n",
       "  <div id=\"df-44bf5231-f1a4-49c9-8266-2d33026b9e61\">\n",
       "    <div class=\"colab-df-container\">\n",
       "      <div>\n",
       "<style scoped>\n",
       "    .dataframe tbody tr th:only-of-type {\n",
       "        vertical-align: middle;\n",
       "    }\n",
       "\n",
       "    .dataframe tbody tr th {\n",
       "        vertical-align: top;\n",
       "    }\n",
       "\n",
       "    .dataframe thead th {\n",
       "        text-align: right;\n",
       "    }\n",
       "</style>\n",
       "<table border=\"1\" class=\"dataframe\">\n",
       "  <thead>\n",
       "    <tr style=\"text-align: right;\">\n",
       "      <th></th>\n",
       "      <th>0</th>\n",
       "      <th>1</th>\n",
       "      <th>2</th>\n",
       "      <th>3</th>\n",
       "      <th>4</th>\n",
       "      <th>5</th>\n",
       "      <th>6</th>\n",
       "      <th>7</th>\n",
       "      <th>8</th>\n",
       "      <th>9</th>\n",
       "      <th>dist_0</th>\n",
       "      <th>dist_1</th>\n",
       "      <th>dist_2</th>\n",
       "      <th>dist_3</th>\n",
       "      <th>Gausian Components</th>\n",
       "    </tr>\n",
       "  </thead>\n",
       "  <tbody>\n",
       "    <tr>\n",
       "      <th>count</th>\n",
       "      <td>2747.000000</td>\n",
       "      <td>2747.000000</td>\n",
       "      <td>2747.000000</td>\n",
       "      <td>2747.000000</td>\n",
       "      <td>2747.000000</td>\n",
       "      <td>2747.000000</td>\n",
       "      <td>2747.000000</td>\n",
       "      <td>2747.000000</td>\n",
       "      <td>2747.000000</td>\n",
       "      <td>2747.000000</td>\n",
       "      <td>2747.000000</td>\n",
       "      <td>2747.000000</td>\n",
       "      <td>2747.000000</td>\n",
       "      <td>2747.000000</td>\n",
       "      <td>2747.000000</td>\n",
       "    </tr>\n",
       "    <tr>\n",
       "      <th>mean</th>\n",
       "      <td>0.844779</td>\n",
       "      <td>0.052178</td>\n",
       "      <td>0.007071</td>\n",
       "      <td>0.038903</td>\n",
       "      <td>0.015093</td>\n",
       "      <td>0.342802</td>\n",
       "      <td>0.086928</td>\n",
       "      <td>0.082548</td>\n",
       "      <td>0.042368</td>\n",
       "      <td>0.313526</td>\n",
       "      <td>13.943175</td>\n",
       "      <td>5.243491</td>\n",
       "      <td>16.001589</td>\n",
       "      <td>9.240138</td>\n",
       "      <td>1.263560</td>\n",
       "    </tr>\n",
       "    <tr>\n",
       "      <th>std</th>\n",
       "      <td>0.062110</td>\n",
       "      <td>0.033885</td>\n",
       "      <td>0.003738</td>\n",
       "      <td>0.049781</td>\n",
       "      <td>0.021570</td>\n",
       "      <td>0.128982</td>\n",
       "      <td>0.012126</td>\n",
       "      <td>0.010418</td>\n",
       "      <td>0.019376</td>\n",
       "      <td>0.156989</td>\n",
       "      <td>4.092360</td>\n",
       "      <td>1.002296</td>\n",
       "      <td>4.146935</td>\n",
       "      <td>3.384609</td>\n",
       "      <td>0.676626</td>\n",
       "    </tr>\n",
       "    <tr>\n",
       "      <th>min</th>\n",
       "      <td>0.728880</td>\n",
       "      <td>0.000000</td>\n",
       "      <td>0.000000</td>\n",
       "      <td>0.000000</td>\n",
       "      <td>-0.008769</td>\n",
       "      <td>0.021092</td>\n",
       "      <td>0.047480</td>\n",
       "      <td>0.054475</td>\n",
       "      <td>0.000000</td>\n",
       "      <td>0.000000</td>\n",
       "      <td>8.169721</td>\n",
       "      <td>3.064902</td>\n",
       "      <td>7.416531</td>\n",
       "      <td>3.774628</td>\n",
       "      <td>1.000000</td>\n",
       "    </tr>\n",
       "    <tr>\n",
       "      <th>25%</th>\n",
       "      <td>0.793139</td>\n",
       "      <td>0.031478</td>\n",
       "      <td>0.004021</td>\n",
       "      <td>0.000000</td>\n",
       "      <td>0.000000</td>\n",
       "      <td>0.242305</td>\n",
       "      <td>0.079667</td>\n",
       "      <td>0.074970</td>\n",
       "      <td>0.027072</td>\n",
       "      <td>0.190300</td>\n",
       "      <td>10.703159</td>\n",
       "      <td>4.528034</td>\n",
       "      <td>13.185560</td>\n",
       "      <td>6.596496</td>\n",
       "      <td>1.000000</td>\n",
       "    </tr>\n",
       "    <tr>\n",
       "      <th>50%</th>\n",
       "      <td>0.833949</td>\n",
       "      <td>0.044512</td>\n",
       "      <td>0.006853</td>\n",
       "      <td>0.012037</td>\n",
       "      <td>0.002284</td>\n",
       "      <td>0.368293</td>\n",
       "      <td>0.086311</td>\n",
       "      <td>0.081862</td>\n",
       "      <td>0.042553</td>\n",
       "      <td>0.298993</td>\n",
       "      <td>12.556570</td>\n",
       "      <td>5.103182</td>\n",
       "      <td>15.185366</td>\n",
       "      <td>8.381744</td>\n",
       "      <td>1.000000</td>\n",
       "    </tr>\n",
       "    <tr>\n",
       "      <th>75%</th>\n",
       "      <td>0.895496</td>\n",
       "      <td>0.060743</td>\n",
       "      <td>0.009560</td>\n",
       "      <td>0.072342</td>\n",
       "      <td>0.027039</td>\n",
       "      <td>0.447334</td>\n",
       "      <td>0.093587</td>\n",
       "      <td>0.089209</td>\n",
       "      <td>0.057103</td>\n",
       "      <td>0.445190</td>\n",
       "      <td>16.506871</td>\n",
       "      <td>5.780225</td>\n",
       "      <td>18.522299</td>\n",
       "      <td>11.173176</td>\n",
       "      <td>1.000000</td>\n",
       "    </tr>\n",
       "    <tr>\n",
       "      <th>max</th>\n",
       "      <td>0.987882</td>\n",
       "      <td>0.170085</td>\n",
       "      <td>0.019340</td>\n",
       "      <td>0.187551</td>\n",
       "      <td>0.098274</td>\n",
       "      <td>0.607065</td>\n",
       "      <td>0.119547</td>\n",
       "      <td>0.113868</td>\n",
       "      <td>0.100967</td>\n",
       "      <td>0.629160</td>\n",
       "      <td>28.961666</td>\n",
       "      <td>8.912511</td>\n",
       "      <td>28.898614</td>\n",
       "      <td>20.049133</td>\n",
       "      <td>3.000000</td>\n",
       "    </tr>\n",
       "  </tbody>\n",
       "</table>\n",
       "</div>\n",
       "      <button class=\"colab-df-convert\" onclick=\"convertToInteractive('df-44bf5231-f1a4-49c9-8266-2d33026b9e61')\"\n",
       "              title=\"Convert this dataframe to an interactive table.\"\n",
       "              style=\"display:none;\">\n",
       "        \n",
       "  <svg xmlns=\"http://www.w3.org/2000/svg\" height=\"24px\"viewBox=\"0 0 24 24\"\n",
       "       width=\"24px\">\n",
       "    <path d=\"M0 0h24v24H0V0z\" fill=\"none\"/>\n",
       "    <path d=\"M18.56 5.44l.94 2.06.94-2.06 2.06-.94-2.06-.94-.94-2.06-.94 2.06-2.06.94zm-11 1L8.5 8.5l.94-2.06 2.06-.94-2.06-.94L8.5 2.5l-.94 2.06-2.06.94zm10 10l.94 2.06.94-2.06 2.06-.94-2.06-.94-.94-2.06-.94 2.06-2.06.94z\"/><path d=\"M17.41 7.96l-1.37-1.37c-.4-.4-.92-.59-1.43-.59-.52 0-1.04.2-1.43.59L10.3 9.45l-7.72 7.72c-.78.78-.78 2.05 0 2.83L4 21.41c.39.39.9.59 1.41.59.51 0 1.02-.2 1.41-.59l7.78-7.78 2.81-2.81c.8-.78.8-2.07 0-2.86zM5.41 20L4 18.59l7.72-7.72 1.47 1.35L5.41 20z\"/>\n",
       "  </svg>\n",
       "      </button>\n",
       "      \n",
       "  <style>\n",
       "    .colab-df-container {\n",
       "      display:flex;\n",
       "      flex-wrap:wrap;\n",
       "      gap: 12px;\n",
       "    }\n",
       "\n",
       "    .colab-df-convert {\n",
       "      background-color: #E8F0FE;\n",
       "      border: none;\n",
       "      border-radius: 50%;\n",
       "      cursor: pointer;\n",
       "      display: none;\n",
       "      fill: #1967D2;\n",
       "      height: 32px;\n",
       "      padding: 0 0 0 0;\n",
       "      width: 32px;\n",
       "    }\n",
       "\n",
       "    .colab-df-convert:hover {\n",
       "      background-color: #E2EBFA;\n",
       "      box-shadow: 0px 1px 2px rgba(60, 64, 67, 0.3), 0px 1px 3px 1px rgba(60, 64, 67, 0.15);\n",
       "      fill: #174EA6;\n",
       "    }\n",
       "\n",
       "    [theme=dark] .colab-df-convert {\n",
       "      background-color: #3B4455;\n",
       "      fill: #D2E3FC;\n",
       "    }\n",
       "\n",
       "    [theme=dark] .colab-df-convert:hover {\n",
       "      background-color: #434B5C;\n",
       "      box-shadow: 0px 1px 3px 1px rgba(0, 0, 0, 0.15);\n",
       "      filter: drop-shadow(0px 1px 2px rgba(0, 0, 0, 0.3));\n",
       "      fill: #FFFFFF;\n",
       "    }\n",
       "  </style>\n",
       "\n",
       "      <script>\n",
       "        const buttonEl =\n",
       "          document.querySelector('#df-44bf5231-f1a4-49c9-8266-2d33026b9e61 button.colab-df-convert');\n",
       "        buttonEl.style.display =\n",
       "          google.colab.kernel.accessAllowed ? 'block' : 'none';\n",
       "\n",
       "        async function convertToInteractive(key) {\n",
       "          const element = document.querySelector('#df-44bf5231-f1a4-49c9-8266-2d33026b9e61');\n",
       "          const dataTable =\n",
       "            await google.colab.kernel.invokeFunction('convertToInteractive',\n",
       "                                                     [key], {});\n",
       "          if (!dataTable) return;\n",
       "\n",
       "          const docLinkHtml = 'Like what you see? Visit the ' +\n",
       "            '<a target=\"_blank\" href=https://colab.research.google.com/notebooks/data_table.ipynb>data table notebook</a>'\n",
       "            + ' to learn more about interactive tables.';\n",
       "          element.innerHTML = '';\n",
       "          dataTable['output_type'] = 'display_data';\n",
       "          await google.colab.output.renderOutput(dataTable, element);\n",
       "          const docLink = document.createElement('div');\n",
       "          docLink.innerHTML = docLinkHtml;\n",
       "          element.appendChild(docLink);\n",
       "        }\n",
       "      </script>\n",
       "    </div>\n",
       "  </div>\n",
       "  "
      ],
      "text/plain": [
       "                 0            1            2            3            4  \\\n",
       "count  2747.000000  2747.000000  2747.000000  2747.000000  2747.000000   \n",
       "mean      0.844779     0.052178     0.007071     0.038903     0.015093   \n",
       "std       0.062110     0.033885     0.003738     0.049781     0.021570   \n",
       "min       0.728880     0.000000     0.000000     0.000000    -0.008769   \n",
       "25%       0.793139     0.031478     0.004021     0.000000     0.000000   \n",
       "50%       0.833949     0.044512     0.006853     0.012037     0.002284   \n",
       "75%       0.895496     0.060743     0.009560     0.072342     0.027039   \n",
       "max       0.987882     0.170085     0.019340     0.187551     0.098274   \n",
       "\n",
       "                 5            6            7            8            9  \\\n",
       "count  2747.000000  2747.000000  2747.000000  2747.000000  2747.000000   \n",
       "mean      0.342802     0.086928     0.082548     0.042368     0.313526   \n",
       "std       0.128982     0.012126     0.010418     0.019376     0.156989   \n",
       "min       0.021092     0.047480     0.054475     0.000000     0.000000   \n",
       "25%       0.242305     0.079667     0.074970     0.027072     0.190300   \n",
       "50%       0.368293     0.086311     0.081862     0.042553     0.298993   \n",
       "75%       0.447334     0.093587     0.089209     0.057103     0.445190   \n",
       "max       0.607065     0.119547     0.113868     0.100967     0.629160   \n",
       "\n",
       "            dist_0       dist_1       dist_2       dist_3  Gausian Components  \n",
       "count  2747.000000  2747.000000  2747.000000  2747.000000         2747.000000  \n",
       "mean     13.943175     5.243491    16.001589     9.240138            1.263560  \n",
       "std       4.092360     1.002296     4.146935     3.384609            0.676626  \n",
       "min       8.169721     3.064902     7.416531     3.774628            1.000000  \n",
       "25%      10.703159     4.528034    13.185560     6.596496            1.000000  \n",
       "50%      12.556570     5.103182    15.185366     8.381744            1.000000  \n",
       "75%      16.506871     5.780225    18.522299    11.173176            1.000000  \n",
       "max      28.961666     8.912511    28.898614    20.049133            3.000000  "
      ]
     },
     "execution_count": 34,
     "metadata": {},
     "output_type": "execute_result"
    }
   ],
   "source": [
    "mahalanobisdf.describe()"
   ]
  },
  {
   "cell_type": "code",
   "execution_count": null,
   "metadata": {
    "colab": {
     "base_uri": "https://localhost:8080/"
    },
    "id": "Nw0JRZwyodBB",
    "outputId": "8418a3c6-588c-4b4f-8309-78af6c4a06a8"
   },
   "outputs": [
    {
     "data": {
      "text/plain": [
       "array([1, 1, 1, ..., 1, 1, 1])"
      ]
     },
     "execution_count": 84,
     "metadata": {},
     "output_type": "execute_result"
    }
   ],
   "source": [
    "import seaborn as sns\n",
    "sns.barplot(data=mahalanobisdf, x=\"island\", y=\"body_mass_g\", hue=\"sex\")"
   ]
  },
  {
   "cell_type": "code",
   "execution_count": null,
   "metadata": {
    "id": "4S1lJkWashKH"
   },
   "outputs": [],
   "source": [
    "#Export csv\n",
    "mahalanobisdf.to_csv('mahalanobisdf.csv')\n"
   ]
  }
 ],
 "metadata": {
  "colab": {
   "provenance": []
  },
  "kernelspec": {
   "display_name": "Python 3",
   "language": "python",
   "name": "python3"
  },
  "language_info": {
   "codemirror_mode": {
    "name": "ipython",
    "version": 3
   },
   "file_extension": ".py",
   "mimetype": "text/x-python",
   "name": "python",
   "nbconvert_exporter": "python",
   "pygments_lexer": "ipython3",
   "version": "3.8.15"
  },
  "vscode": {
   "interpreter": {
    "hash": "f81d741ec6e6219e0f9f429ed20b8e366be0fafbe237b01c57cd97d16d9bc796"
   }
  }
 },
 "nbformat": 4,
 "nbformat_minor": 4
}
